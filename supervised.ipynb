{
 "cells": [
  {
   "cell_type": "code",
   "execution_count": 1,
   "id": "initial_id",
   "metadata": {
    "collapsed": true,
    "ExecuteTime": {
     "end_time": "2023-08-23T15:14:52.054181196Z",
     "start_time": "2023-08-23T15:14:51.528984210Z"
    }
   },
   "outputs": [],
   "source": [
    "import pandas as pd\n",
    "from sklearn.model_selection import train_test_split\n",
    "import seaborn as sns\n",
    "import matplotlib.pyplot as plt\n",
    "from sklearn import metrics\n",
    "from sklearn.linear_model import LogisticRegression\n",
    "from sklearn.preprocessing import LabelEncoder\n",
    "from sklearn.naive_bayes import GaussianNB\n",
    "from sklearn.tree import DecisionTreeClassifier \n",
    "import pandas\n",
    "from sklearn import model_selection\n",
    "import pickle\n",
    "from sklearn import preprocessing\n",
    "from sklearn.metrics import accuracy_score"
   ]
  },
  {
   "cell_type": "code",
   "execution_count": 2,
   "outputs": [
    {
     "data": {
      "text/plain": "      customerID  gender  SeniorCitizen Partner Dependents  tenure  \\\n0     7590-VHVEG  Female              0     Yes         No       1   \n1     5575-GNVDE    Male              0      No         No      34   \n2     3668-QPYBK    Male              0      No         No       2   \n3     7795-CFOCW    Male              0      No         No      45   \n4     9237-HQITU  Female              0      No         No       2   \n...          ...     ...            ...     ...        ...     ...   \n7038  6840-RESVB    Male              0     Yes        Yes      24   \n7039  2234-XADUH  Female              0     Yes        Yes      72   \n7040  4801-JZAZL  Female              0     Yes        Yes      11   \n7041  8361-LTMKD    Male              1     Yes         No       4   \n7042  3186-AJIEK    Male              0      No         No      66   \n\n     PhoneService     MultipleLines InternetService OnlineSecurity  ...  \\\n0              No  No phone service             DSL             No  ...   \n1             Yes                No             DSL            Yes  ...   \n2             Yes                No             DSL            Yes  ...   \n3              No  No phone service             DSL            Yes  ...   \n4             Yes                No     Fiber optic             No  ...   \n...           ...               ...             ...            ...  ...   \n7038          Yes               Yes             DSL            Yes  ...   \n7039          Yes               Yes     Fiber optic             No  ...   \n7040           No  No phone service             DSL            Yes  ...   \n7041          Yes               Yes     Fiber optic             No  ...   \n7042          Yes                No     Fiber optic            Yes  ...   \n\n     DeviceProtection TechSupport StreamingTV StreamingMovies        Contract  \\\n0                  No          No          No              No  Month-to-month   \n1                 Yes          No          No              No        One year   \n2                  No          No          No              No  Month-to-month   \n3                 Yes         Yes          No              No        One year   \n4                  No          No          No              No  Month-to-month   \n...               ...         ...         ...             ...             ...   \n7038              Yes         Yes         Yes             Yes        One year   \n7039              Yes          No         Yes             Yes        One year   \n7040               No          No          No              No  Month-to-month   \n7041               No          No          No              No  Month-to-month   \n7042              Yes         Yes         Yes             Yes        Two year   \n\n     PaperlessBilling              PaymentMethod MonthlyCharges  TotalCharges  \\\n0                 Yes           Electronic check          29.85         29.85   \n1                  No               Mailed check          56.95        1889.5   \n2                 Yes               Mailed check          53.85        108.15   \n3                  No  Bank transfer (automatic)          42.30       1840.75   \n4                 Yes           Electronic check          70.70        151.65   \n...               ...                        ...            ...           ...   \n7038              Yes               Mailed check          84.80        1990.5   \n7039              Yes    Credit card (automatic)         103.20        7362.9   \n7040              Yes           Electronic check          29.60        346.45   \n7041              Yes               Mailed check          74.40         306.6   \n7042              Yes  Bank transfer (automatic)         105.65        6844.5   \n\n     Churn  \n0       No  \n1       No  \n2      Yes  \n3       No  \n4      Yes  \n...    ...  \n7038    No  \n7039    No  \n7040    No  \n7041   Yes  \n7042    No  \n\n[7043 rows x 21 columns]",
      "text/html": "<div>\n<style scoped>\n    .dataframe tbody tr th:only-of-type {\n        vertical-align: middle;\n    }\n\n    .dataframe tbody tr th {\n        vertical-align: top;\n    }\n\n    .dataframe thead th {\n        text-align: right;\n    }\n</style>\n<table border=\"1\" class=\"dataframe\">\n  <thead>\n    <tr style=\"text-align: right;\">\n      <th></th>\n      <th>customerID</th>\n      <th>gender</th>\n      <th>SeniorCitizen</th>\n      <th>Partner</th>\n      <th>Dependents</th>\n      <th>tenure</th>\n      <th>PhoneService</th>\n      <th>MultipleLines</th>\n      <th>InternetService</th>\n      <th>OnlineSecurity</th>\n      <th>...</th>\n      <th>DeviceProtection</th>\n      <th>TechSupport</th>\n      <th>StreamingTV</th>\n      <th>StreamingMovies</th>\n      <th>Contract</th>\n      <th>PaperlessBilling</th>\n      <th>PaymentMethod</th>\n      <th>MonthlyCharges</th>\n      <th>TotalCharges</th>\n      <th>Churn</th>\n    </tr>\n  </thead>\n  <tbody>\n    <tr>\n      <th>0</th>\n      <td>7590-VHVEG</td>\n      <td>Female</td>\n      <td>0</td>\n      <td>Yes</td>\n      <td>No</td>\n      <td>1</td>\n      <td>No</td>\n      <td>No phone service</td>\n      <td>DSL</td>\n      <td>No</td>\n      <td>...</td>\n      <td>No</td>\n      <td>No</td>\n      <td>No</td>\n      <td>No</td>\n      <td>Month-to-month</td>\n      <td>Yes</td>\n      <td>Electronic check</td>\n      <td>29.85</td>\n      <td>29.85</td>\n      <td>No</td>\n    </tr>\n    <tr>\n      <th>1</th>\n      <td>5575-GNVDE</td>\n      <td>Male</td>\n      <td>0</td>\n      <td>No</td>\n      <td>No</td>\n      <td>34</td>\n      <td>Yes</td>\n      <td>No</td>\n      <td>DSL</td>\n      <td>Yes</td>\n      <td>...</td>\n      <td>Yes</td>\n      <td>No</td>\n      <td>No</td>\n      <td>No</td>\n      <td>One year</td>\n      <td>No</td>\n      <td>Mailed check</td>\n      <td>56.95</td>\n      <td>1889.5</td>\n      <td>No</td>\n    </tr>\n    <tr>\n      <th>2</th>\n      <td>3668-QPYBK</td>\n      <td>Male</td>\n      <td>0</td>\n      <td>No</td>\n      <td>No</td>\n      <td>2</td>\n      <td>Yes</td>\n      <td>No</td>\n      <td>DSL</td>\n      <td>Yes</td>\n      <td>...</td>\n      <td>No</td>\n      <td>No</td>\n      <td>No</td>\n      <td>No</td>\n      <td>Month-to-month</td>\n      <td>Yes</td>\n      <td>Mailed check</td>\n      <td>53.85</td>\n      <td>108.15</td>\n      <td>Yes</td>\n    </tr>\n    <tr>\n      <th>3</th>\n      <td>7795-CFOCW</td>\n      <td>Male</td>\n      <td>0</td>\n      <td>No</td>\n      <td>No</td>\n      <td>45</td>\n      <td>No</td>\n      <td>No phone service</td>\n      <td>DSL</td>\n      <td>Yes</td>\n      <td>...</td>\n      <td>Yes</td>\n      <td>Yes</td>\n      <td>No</td>\n      <td>No</td>\n      <td>One year</td>\n      <td>No</td>\n      <td>Bank transfer (automatic)</td>\n      <td>42.30</td>\n      <td>1840.75</td>\n      <td>No</td>\n    </tr>\n    <tr>\n      <th>4</th>\n      <td>9237-HQITU</td>\n      <td>Female</td>\n      <td>0</td>\n      <td>No</td>\n      <td>No</td>\n      <td>2</td>\n      <td>Yes</td>\n      <td>No</td>\n      <td>Fiber optic</td>\n      <td>No</td>\n      <td>...</td>\n      <td>No</td>\n      <td>No</td>\n      <td>No</td>\n      <td>No</td>\n      <td>Month-to-month</td>\n      <td>Yes</td>\n      <td>Electronic check</td>\n      <td>70.70</td>\n      <td>151.65</td>\n      <td>Yes</td>\n    </tr>\n    <tr>\n      <th>...</th>\n      <td>...</td>\n      <td>...</td>\n      <td>...</td>\n      <td>...</td>\n      <td>...</td>\n      <td>...</td>\n      <td>...</td>\n      <td>...</td>\n      <td>...</td>\n      <td>...</td>\n      <td>...</td>\n      <td>...</td>\n      <td>...</td>\n      <td>...</td>\n      <td>...</td>\n      <td>...</td>\n      <td>...</td>\n      <td>...</td>\n      <td>...</td>\n      <td>...</td>\n      <td>...</td>\n    </tr>\n    <tr>\n      <th>7038</th>\n      <td>6840-RESVB</td>\n      <td>Male</td>\n      <td>0</td>\n      <td>Yes</td>\n      <td>Yes</td>\n      <td>24</td>\n      <td>Yes</td>\n      <td>Yes</td>\n      <td>DSL</td>\n      <td>Yes</td>\n      <td>...</td>\n      <td>Yes</td>\n      <td>Yes</td>\n      <td>Yes</td>\n      <td>Yes</td>\n      <td>One year</td>\n      <td>Yes</td>\n      <td>Mailed check</td>\n      <td>84.80</td>\n      <td>1990.5</td>\n      <td>No</td>\n    </tr>\n    <tr>\n      <th>7039</th>\n      <td>2234-XADUH</td>\n      <td>Female</td>\n      <td>0</td>\n      <td>Yes</td>\n      <td>Yes</td>\n      <td>72</td>\n      <td>Yes</td>\n      <td>Yes</td>\n      <td>Fiber optic</td>\n      <td>No</td>\n      <td>...</td>\n      <td>Yes</td>\n      <td>No</td>\n      <td>Yes</td>\n      <td>Yes</td>\n      <td>One year</td>\n      <td>Yes</td>\n      <td>Credit card (automatic)</td>\n      <td>103.20</td>\n      <td>7362.9</td>\n      <td>No</td>\n    </tr>\n    <tr>\n      <th>7040</th>\n      <td>4801-JZAZL</td>\n      <td>Female</td>\n      <td>0</td>\n      <td>Yes</td>\n      <td>Yes</td>\n      <td>11</td>\n      <td>No</td>\n      <td>No phone service</td>\n      <td>DSL</td>\n      <td>Yes</td>\n      <td>...</td>\n      <td>No</td>\n      <td>No</td>\n      <td>No</td>\n      <td>No</td>\n      <td>Month-to-month</td>\n      <td>Yes</td>\n      <td>Electronic check</td>\n      <td>29.60</td>\n      <td>346.45</td>\n      <td>No</td>\n    </tr>\n    <tr>\n      <th>7041</th>\n      <td>8361-LTMKD</td>\n      <td>Male</td>\n      <td>1</td>\n      <td>Yes</td>\n      <td>No</td>\n      <td>4</td>\n      <td>Yes</td>\n      <td>Yes</td>\n      <td>Fiber optic</td>\n      <td>No</td>\n      <td>...</td>\n      <td>No</td>\n      <td>No</td>\n      <td>No</td>\n      <td>No</td>\n      <td>Month-to-month</td>\n      <td>Yes</td>\n      <td>Mailed check</td>\n      <td>74.40</td>\n      <td>306.6</td>\n      <td>Yes</td>\n    </tr>\n    <tr>\n      <th>7042</th>\n      <td>3186-AJIEK</td>\n      <td>Male</td>\n      <td>0</td>\n      <td>No</td>\n      <td>No</td>\n      <td>66</td>\n      <td>Yes</td>\n      <td>No</td>\n      <td>Fiber optic</td>\n      <td>Yes</td>\n      <td>...</td>\n      <td>Yes</td>\n      <td>Yes</td>\n      <td>Yes</td>\n      <td>Yes</td>\n      <td>Two year</td>\n      <td>Yes</td>\n      <td>Bank transfer (automatic)</td>\n      <td>105.65</td>\n      <td>6844.5</td>\n      <td>No</td>\n    </tr>\n  </tbody>\n</table>\n<p>7043 rows × 21 columns</p>\n</div>"
     },
     "execution_count": 2,
     "metadata": {},
     "output_type": "execute_result"
    }
   ],
   "source": [
    "dataset = pd.read_csv(\"WA_Fn-UseC_-Telco-Customer-Churn.csv\")\n",
    "dataset"
   ],
   "metadata": {
    "collapsed": false,
    "ExecuteTime": {
     "end_time": "2023-08-23T15:14:59.465332201Z",
     "start_time": "2023-08-23T15:14:59.360085842Z"
    }
   },
   "id": "2162bb684e52babc"
  },
  {
   "cell_type": "markdown",
   "source": [
    "Check to see if dataset is balanced"
   ],
   "metadata": {
    "collapsed": false
   },
   "id": "bbcb822c84b72c9"
  },
  {
   "cell_type": "code",
   "execution_count": 4,
   "outputs": [
    {
     "name": "stdout",
     "output_type": "stream",
     "text": [
      "mean:32.37114865824223, std:24.55948102309446\n"
     ]
    }
   ],
   "source": [
    "mean = dataset.tenure.mean()\n",
    "std = dataset.tenure.std()\n",
    "print(\"mean:{}, std:{}\".format(mean, std))"
   ],
   "metadata": {
    "collapsed": false,
    "ExecuteTime": {
     "end_time": "2023-08-23T15:16:13.651976533Z",
     "start_time": "2023-08-23T15:16:13.522747138Z"
    }
   },
   "id": "f9ab6adfbdfe9f8d"
  },
  {
   "cell_type": "code",
   "execution_count": 5,
   "outputs": [
    {
     "data": {
      "text/plain": "<Figure size 640x480 with 1 Axes>",
      "image/png": "[encoded data removed]"
     },
     "metadata": {},
     "output_type": "display_data"
    }
   ],
   "source": [
    "plt.hist(dataset.tenure, bins=10, edgecolor='black', alpha=0.7)  \n",
    "sns.kdeplot(dataset.tenure, color='red', linewidth=2)\n",
    "plt.show()"
   ],
   "metadata": {
    "collapsed": false,
    "ExecuteTime": {
     "end_time": "2023-08-23T15:16:19.207332119Z",
     "start_time": "2023-08-23T15:16:18.792575110Z"
    }
   },
   "id": "2956753d215054ff"
  },
  {
   "cell_type": "code",
   "execution_count": 6,
   "outputs": [
    {
     "data": {
      "text/plain": "      tenure  MonthlyCharges\n0          1           29.85\n1         34           56.95\n2          2           53.85\n3         45           42.30\n4          2           70.70\n...      ...             ...\n7038      24           84.80\n7039      72          103.20\n7040      11           29.60\n7041       4           74.40\n7042      66          105.65\n\n[7043 rows x 2 columns]",
      "text/html": "<div>\n<style scoped>\n    .dataframe tbody tr th:only-of-type {\n        vertical-align: middle;\n    }\n\n    .dataframe tbody tr th {\n        vertical-align: top;\n    }\n\n    .dataframe thead th {\n        text-align: right;\n    }\n</style>\n<table border=\"1\" class=\"dataframe\">\n  <thead>\n    <tr style=\"text-align: right;\">\n      <th></th>\n      <th>tenure</th>\n      <th>MonthlyCharges</th>\n    </tr>\n  </thead>\n  <tbody>\n    <tr>\n      <th>0</th>\n      <td>1</td>\n      <td>29.85</td>\n    </tr>\n    <tr>\n      <th>1</th>\n      <td>34</td>\n      <td>56.95</td>\n    </tr>\n    <tr>\n      <th>2</th>\n      <td>2</td>\n      <td>53.85</td>\n    </tr>\n    <tr>\n      <th>3</th>\n      <td>45</td>\n      <td>42.30</td>\n    </tr>\n    <tr>\n      <th>4</th>\n      <td>2</td>\n      <td>70.70</td>\n    </tr>\n    <tr>\n      <th>...</th>\n      <td>...</td>\n      <td>...</td>\n    </tr>\n    <tr>\n      <th>7038</th>\n      <td>24</td>\n      <td>84.80</td>\n    </tr>\n    <tr>\n      <th>7039</th>\n      <td>72</td>\n      <td>103.20</td>\n    </tr>\n    <tr>\n      <th>7040</th>\n      <td>11</td>\n      <td>29.60</td>\n    </tr>\n    <tr>\n      <th>7041</th>\n      <td>4</td>\n      <td>74.40</td>\n    </tr>\n    <tr>\n      <th>7042</th>\n      <td>66</td>\n      <td>105.65</td>\n    </tr>\n  </tbody>\n</table>\n<p>7043 rows × 2 columns</p>\n</div>"
     },
     "execution_count": 6,
     "metadata": {},
     "output_type": "execute_result"
    }
   ],
   "source": [
    "numeric_data = dataset.loc[:,['tenure', 'MonthlyCharges']]\n",
    "numeric_data"
   ],
   "metadata": {
    "collapsed": false,
    "ExecuteTime": {
     "end_time": "2023-08-23T15:16:23.861445351Z",
     "start_time": "2023-08-23T15:16:23.808886805Z"
    }
   },
   "id": "6ead8278992dbe46"
  },
  {
   "cell_type": "markdown",
   "source": [
    "Scaling the dataset"
   ],
   "metadata": {
    "collapsed": false
   },
   "id": "72ae8b4151eda504"
  },
  {
   "cell_type": "code",
   "execution_count": 7,
   "outputs": [
    {
     "name": "stdout",
     "output_type": "stream",
     "text": [
      "        tenure  MonthlyCharges\n",
      "0     0.033482        0.999439\n",
      "1     0.512610        0.858622\n",
      "2     0.037115        0.999311\n",
      "3     0.728628        0.684910\n",
      "4     0.028277        0.999600\n",
      "...        ...             ...\n",
      "7038  0.272322        0.962206\n",
      "7039  0.572182        0.820127\n",
      "7040  0.348346        0.937366\n",
      "7041  0.053686        0.998558\n",
      "7042  0.529819        0.848111\n",
      "\n",
      "[7043 rows x 2 columns]\n"
     ]
    }
   ],
   "source": [
    "from sklearn import preprocessing\n",
    "d = preprocessing.normalize(numeric_data)\n",
    "scaled_df = pd.DataFrame(d, columns=numeric_data.columns)\n",
    "print(scaled_df)"
   ],
   "metadata": {
    "collapsed": false,
    "ExecuteTime": {
     "end_time": "2023-08-23T15:16:29.103860042Z",
     "start_time": "2023-08-23T15:16:29.078544517Z"
    }
   },
   "id": "4be3df1eeefd5469"
  },
  {
   "cell_type": "markdown",
   "source": [
    "Make categories to numbers!"
   ],
   "metadata": {
    "collapsed": false
   },
   "id": "ce768ba25308ae52"
  },
  {
   "cell_type": "code",
   "execution_count": 8,
   "outputs": [
    {
     "data": {
      "text/plain": "array(['No phone service', 'No', 'Yes'], dtype=object)"
     },
     "execution_count": 8,
     "metadata": {},
     "output_type": "execute_result"
    }
   ],
   "source": [
    "dataset['MultipleLines'].unique()"
   ],
   "metadata": {
    "collapsed": false,
    "ExecuteTime": {
     "end_time": "2023-08-23T15:19:45.526072712Z",
     "start_time": "2023-08-23T15:19:45.415175279Z"
    }
   },
   "id": "adf00af3ea765106"
  },
  {
   "cell_type": "code",
   "execution_count": 9,
   "outputs": [
    {
     "data": {
      "text/plain": "array(['DSL', 'Fiber optic', 'No'], dtype=object)"
     },
     "execution_count": 9,
     "metadata": {},
     "output_type": "execute_result"
    }
   ],
   "source": [
    "dataset['InternetService'].unique()"
   ],
   "metadata": {
    "collapsed": false,
    "ExecuteTime": {
     "end_time": "2023-08-23T15:19:51.494799178Z",
     "start_time": "2023-08-23T15:19:51.395433710Z"
    }
   },
   "id": "8befba96c5d0c8dd"
  },
  {
   "cell_type": "code",
   "execution_count": 10,
   "outputs": [
    {
     "data": {
      "text/plain": "array(['Month-to-month', 'One year', 'Two year'], dtype=object)"
     },
     "execution_count": 10,
     "metadata": {},
     "output_type": "execute_result"
    }
   ],
   "source": [
    "dataset['Contract'].unique()"
   ],
   "metadata": {
    "collapsed": false,
    "ExecuteTime": {
     "end_time": "2023-08-23T15:19:54.138604477Z",
     "start_time": "2023-08-23T15:19:54.120370002Z"
    }
   },
   "id": "847bfff09511b524"
  },
  {
   "cell_type": "code",
   "execution_count": 11,
   "outputs": [
    {
     "data": {
      "text/plain": "array(['Electronic check', 'Mailed check', 'Bank transfer (automatic)',\n       'Credit card (automatic)'], dtype=object)"
     },
     "execution_count": 11,
     "metadata": {},
     "output_type": "execute_result"
    }
   ],
   "source": [
    "dataset['PaymentMethod'].unique()"
   ],
   "metadata": {
    "collapsed": false,
    "ExecuteTime": {
     "end_time": "2023-08-23T15:19:56.323851704Z",
     "start_time": "2023-08-23T15:19:56.295358994Z"
    }
   },
   "id": "d95a1e5d6f70aa91"
  },
  {
   "cell_type": "code",
   "execution_count": 12,
   "outputs": [
    {
     "data": {
      "text/plain": "array(['Yes', 'No', 'No internet service'], dtype=object)"
     },
     "execution_count": 12,
     "metadata": {},
     "output_type": "execute_result"
    }
   ],
   "source": [
    "dataset['OnlineBackup'].unique()"
   ],
   "metadata": {
    "collapsed": false,
    "ExecuteTime": {
     "end_time": "2023-08-23T15:19:59.003619946Z",
     "start_time": "2023-08-23T15:19:58.968515657Z"
    }
   },
   "id": "2c44f20a6e7100da"
  },
  {
   "cell_type": "code",
   "execution_count": 13,
   "outputs": [
    {
     "data": {
      "text/plain": "array(['29.85', '1889.5', '108.15', ..., '346.45', '306.6', '6844.5'],\n      dtype=object)"
     },
     "execution_count": 13,
     "metadata": {},
     "output_type": "execute_result"
    }
   ],
   "source": [
    "dataset['TotalCharges'].unique()"
   ],
   "metadata": {
    "collapsed": false,
    "ExecuteTime": {
     "end_time": "2023-08-23T15:20:03.173529955Z",
     "start_time": "2023-08-23T15:20:03.155786136Z"
    }
   },
   "id": "5b87ef1a5b1dd7d8"
  },
  {
   "cell_type": "code",
   "execution_count": 14,
   "outputs": [
    {
     "data": {
      "text/plain": "      customerID  gender  SeniorCitizen  Partner  Dependents  tenure  \\\n0     7590-VHVEG       0              0        1           0       1   \n1     5575-GNVDE       1              0        0           0      34   \n2     3668-QPYBK       1              0        0           0       2   \n3     7795-CFOCW       1              0        0           0      45   \n4     9237-HQITU       0              0        0           0       2   \n...          ...     ...            ...      ...         ...     ...   \n7038  6840-RESVB       1              0        1           1      24   \n7039  2234-XADUH       0              0        1           1      72   \n7040  4801-JZAZL       0              0        1           1      11   \n7041  8361-LTMKD       1              1        1           0       4   \n7042  3186-AJIEK       1              0        0           0      66   \n\n      PhoneService  MultipleLines  InternetService  OnlineSecurity  ...  \\\n0                0              0                0               0  ...   \n1                1              2                0               1  ...   \n2                1              2                0               1  ...   \n3                0              0                0               1  ...   \n4                1              2                2               0  ...   \n...            ...            ...              ...             ...  ...   \n7038             1              2                0               1  ...   \n7039             1              2                2               0  ...   \n7040             0              0                0               1  ...   \n7041             1              2                2               0  ...   \n7042             1              2                2               1  ...   \n\n      DeviceProtection  TechSupport  StreamingTV  StreamingMovies  Contract  \\\n0                    0            0            0                0         0   \n1                    1            0            0                0         2   \n2                    0            0            0                0         0   \n3                    1            1            0                0         2   \n4                    0            0            0                0         0   \n...                ...          ...          ...              ...       ...   \n7038                 1            1            1                1         2   \n7039                 1            0            1                1         2   \n7040                 0            0            0                0         0   \n7041                 0            0            0                0         0   \n7042                 1            1            1                1         2   \n\n      PaperlessBilling  PaymentMethod  MonthlyCharges  TotalCharges  Churn  \n0                    1              0           29.85         29.85     No  \n1                    0              1           56.95       1889.50     No  \n2                    1              1           53.85        108.15    Yes  \n3                    0              2           42.30       1840.75     No  \n4                    1              0           70.70        151.65    Yes  \n...                ...            ...             ...           ...    ...  \n7038                 1              1           84.80       1990.50     No  \n7039                 1              3          103.20       7362.90     No  \n7040                 1              0           29.60        346.45     No  \n7041                 1              1           74.40        306.60    Yes  \n7042                 1              2          105.65       6844.50     No  \n\n[7043 rows x 21 columns]",
      "text/html": "<div>\n<style scoped>\n    .dataframe tbody tr th:only-of-type {\n        vertical-align: middle;\n    }\n\n    .dataframe tbody tr th {\n        vertical-align: top;\n    }\n\n    .dataframe thead th {\n        text-align: right;\n    }\n</style>\n<table border=\"1\" class=\"dataframe\">\n  <thead>\n    <tr style=\"text-align: right;\">\n      <th></th>\n      <th>customerID</th>\n      <th>gender</th>\n      <th>SeniorCitizen</th>\n      <th>Partner</th>\n      <th>Dependents</th>\n      <th>tenure</th>\n      <th>PhoneService</th>\n      <th>MultipleLines</th>\n      <th>InternetService</th>\n      <th>OnlineSecurity</th>\n      <th>...</th>\n      <th>DeviceProtection</th>\n      <th>TechSupport</th>\n      <th>StreamingTV</th>\n      <th>StreamingMovies</th>\n      <th>Contract</th>\n      <th>PaperlessBilling</th>\n      <th>PaymentMethod</th>\n      <th>MonthlyCharges</th>\n      <th>TotalCharges</th>\n      <th>Churn</th>\n    </tr>\n  </thead>\n  <tbody>\n    <tr>\n      <th>0</th>\n      <td>7590-VHVEG</td>\n      <td>0</td>\n      <td>0</td>\n      <td>1</td>\n      <td>0</td>\n      <td>1</td>\n      <td>0</td>\n      <td>0</td>\n      <td>0</td>\n      <td>0</td>\n      <td>...</td>\n      <td>0</td>\n      <td>0</td>\n      <td>0</td>\n      <td>0</td>\n      <td>0</td>\n      <td>1</td>\n      <td>0</td>\n      <td>29.85</td>\n      <td>29.85</td>\n      <td>No</td>\n    </tr>\n    <tr>\n      <th>1</th>\n      <td>5575-GNVDE</td>\n      <td>1</td>\n      <td>0</td>\n      <td>0</td>\n      <td>0</td>\n      <td>34</td>\n      <td>1</td>\n      <td>2</td>\n      <td>0</td>\n      <td>1</td>\n      <td>...</td>\n      <td>1</td>\n      <td>0</td>\n      <td>0</td>\n      <td>0</td>\n      <td>2</td>\n      <td>0</td>\n      <td>1</td>\n      <td>56.95</td>\n      <td>1889.50</td>\n      <td>No</td>\n    </tr>\n    <tr>\n      <th>2</th>\n      <td>3668-QPYBK</td>\n      <td>1</td>\n      <td>0</td>\n      <td>0</td>\n      <td>0</td>\n      <td>2</td>\n      <td>1</td>\n      <td>2</td>\n      <td>0</td>\n      <td>1</td>\n      <td>...</td>\n      <td>0</td>\n      <td>0</td>\n      <td>0</td>\n      <td>0</td>\n      <td>0</td>\n      <td>1</td>\n      <td>1</td>\n      <td>53.85</td>\n      <td>108.15</td>\n      <td>Yes</td>\n    </tr>\n    <tr>\n      <th>3</th>\n      <td>7795-CFOCW</td>\n      <td>1</td>\n      <td>0</td>\n      <td>0</td>\n      <td>0</td>\n      <td>45</td>\n      <td>0</td>\n      <td>0</td>\n      <td>0</td>\n      <td>1</td>\n      <td>...</td>\n      <td>1</td>\n      <td>1</td>\n      <td>0</td>\n      <td>0</td>\n      <td>2</td>\n      <td>0</td>\n      <td>2</td>\n      <td>42.30</td>\n      <td>1840.75</td>\n      <td>No</td>\n    </tr>\n    <tr>\n      <th>4</th>\n      <td>9237-HQITU</td>\n      <td>0</td>\n      <td>0</td>\n      <td>0</td>\n      <td>0</td>\n      <td>2</td>\n      <td>1</td>\n      <td>2</td>\n      <td>2</td>\n      <td>0</td>\n      <td>...</td>\n      <td>0</td>\n      <td>0</td>\n      <td>0</td>\n      <td>0</td>\n      <td>0</td>\n      <td>1</td>\n      <td>0</td>\n      <td>70.70</td>\n      <td>151.65</td>\n      <td>Yes</td>\n    </tr>\n    <tr>\n      <th>...</th>\n      <td>...</td>\n      <td>...</td>\n      <td>...</td>\n      <td>...</td>\n      <td>...</td>\n      <td>...</td>\n      <td>...</td>\n      <td>...</td>\n      <td>...</td>\n      <td>...</td>\n      <td>...</td>\n      <td>...</td>\n      <td>...</td>\n      <td>...</td>\n      <td>...</td>\n      <td>...</td>\n      <td>...</td>\n      <td>...</td>\n      <td>...</td>\n      <td>...</td>\n      <td>...</td>\n    </tr>\n    <tr>\n      <th>7038</th>\n      <td>6840-RESVB</td>\n      <td>1</td>\n      <td>0</td>\n      <td>1</td>\n      <td>1</td>\n      <td>24</td>\n      <td>1</td>\n      <td>2</td>\n      <td>0</td>\n      <td>1</td>\n      <td>...</td>\n      <td>1</td>\n      <td>1</td>\n      <td>1</td>\n      <td>1</td>\n      <td>2</td>\n      <td>1</td>\n      <td>1</td>\n      <td>84.80</td>\n      <td>1990.50</td>\n      <td>No</td>\n    </tr>\n    <tr>\n      <th>7039</th>\n      <td>2234-XADUH</td>\n      <td>0</td>\n      <td>0</td>\n      <td>1</td>\n      <td>1</td>\n      <td>72</td>\n      <td>1</td>\n      <td>2</td>\n      <td>2</td>\n      <td>0</td>\n      <td>...</td>\n      <td>1</td>\n      <td>0</td>\n      <td>1</td>\n      <td>1</td>\n      <td>2</td>\n      <td>1</td>\n      <td>3</td>\n      <td>103.20</td>\n      <td>7362.90</td>\n      <td>No</td>\n    </tr>\n    <tr>\n      <th>7040</th>\n      <td>4801-JZAZL</td>\n      <td>0</td>\n      <td>0</td>\n      <td>1</td>\n      <td>1</td>\n      <td>11</td>\n      <td>0</td>\n      <td>0</td>\n      <td>0</td>\n      <td>1</td>\n      <td>...</td>\n      <td>0</td>\n      <td>0</td>\n      <td>0</td>\n      <td>0</td>\n      <td>0</td>\n      <td>1</td>\n      <td>0</td>\n      <td>29.60</td>\n      <td>346.45</td>\n      <td>No</td>\n    </tr>\n    <tr>\n      <th>7041</th>\n      <td>8361-LTMKD</td>\n      <td>1</td>\n      <td>1</td>\n      <td>1</td>\n      <td>0</td>\n      <td>4</td>\n      <td>1</td>\n      <td>2</td>\n      <td>2</td>\n      <td>0</td>\n      <td>...</td>\n      <td>0</td>\n      <td>0</td>\n      <td>0</td>\n      <td>0</td>\n      <td>0</td>\n      <td>1</td>\n      <td>1</td>\n      <td>74.40</td>\n      <td>306.60</td>\n      <td>Yes</td>\n    </tr>\n    <tr>\n      <th>7042</th>\n      <td>3186-AJIEK</td>\n      <td>1</td>\n      <td>0</td>\n      <td>0</td>\n      <td>0</td>\n      <td>66</td>\n      <td>1</td>\n      <td>2</td>\n      <td>2</td>\n      <td>1</td>\n      <td>...</td>\n      <td>1</td>\n      <td>1</td>\n      <td>1</td>\n      <td>1</td>\n      <td>2</td>\n      <td>1</td>\n      <td>2</td>\n      <td>105.65</td>\n      <td>6844.50</td>\n      <td>No</td>\n    </tr>\n  </tbody>\n</table>\n<p>7043 rows × 21 columns</p>\n</div>"
     },
     "execution_count": 14,
     "metadata": {},
     "output_type": "execute_result"
    }
   ],
   "source": [
    "encoder = LabelEncoder()\n",
    "dataset['gender'] = encoder.fit_transform(dataset['gender'])\n",
    "yes_no_columns = ['Partner', 'Dependents', 'PhoneService', 'PaperlessBilling']\n",
    "yes_no_internet_columns = ['OnlineSecurity', 'DeviceProtection','TechSupport','StreamingTV','StreamingMovies', 'OnlineBackup']\n",
    "dataset[yes_no_columns] = dataset[yes_no_columns].replace({'Yes': 1, 'No': 0})\n",
    "dataset[yes_no_internet_columns] = dataset[yes_no_internet_columns].replace({'No internet service': 2, 'Yes': 1, 'No':0})\n",
    "dataset['MultipleLines'] = dataset['MultipleLines'].replace({'Yes': 2, 'No': 2, 'No phone service':0})\n",
    "dataset['InternetService'] = dataset['InternetService'].replace({'No': 2, 'Fiber optic': 2, 'DSL':0})\n",
    "dataset['Contract'] = dataset['Contract'].replace({'Two year': 2, 'One year': 2, 'Month-to-month':0})\n",
    "dataset['PaymentMethod'] = dataset['PaymentMethod'].replace({'Credit card (automatic)': 3, 'Bank transfer (automatic)': 2, 'Mailed check':1, 'Electronic check': 0})\n",
    "dataset['TotalCharges'] = pd.to_numeric(dataset['TotalCharges'], errors='coerce')\n",
    "dataset['TotalCharges'] = dataset['TotalCharges'].fillna(0)\n",
    "dataset"
   ],
   "metadata": {
    "collapsed": false,
    "ExecuteTime": {
     "end_time": "2023-08-23T15:20:12.105966027Z",
     "start_time": "2023-08-23T15:20:11.991060882Z"
    }
   },
   "id": "a4db571305b669ce"
  },
  {
   "cell_type": "code",
   "execution_count": 15,
   "outputs": [
    {
     "data": {
      "text/plain": "customerID           object\ngender                int64\nSeniorCitizen         int64\nPartner               int64\nDependents            int64\ntenure                int64\nPhoneService          int64\nMultipleLines         int64\nInternetService       int64\nOnlineSecurity        int64\nOnlineBackup          int64\nDeviceProtection      int64\nTechSupport           int64\nStreamingTV           int64\nStreamingMovies       int64\nContract              int64\nPaperlessBilling      int64\nPaymentMethod         int64\nMonthlyCharges      float64\nTotalCharges        float64\nChurn                object\ndtype: object"
     },
     "execution_count": 15,
     "metadata": {},
     "output_type": "execute_result"
    }
   ],
   "source": [
    "dataset.dtypes"
   ],
   "metadata": {
    "collapsed": false,
    "ExecuteTime": {
     "end_time": "2023-08-23T15:20:19.244657173Z",
     "start_time": "2023-08-23T15:20:19.229588669Z"
    }
   },
   "id": "5aa747823996315b"
  },
  {
   "cell_type": "markdown",
   "source": [
    "# Logistic Regression"
   ],
   "metadata": {
    "collapsed": false
   },
   "id": "d85250885ad0159c"
  },
  {
   "cell_type": "code",
   "execution_count": 16,
   "outputs": [
    {
     "name": "stderr",
     "output_type": "stream",
     "text": [
      "/home/annabelle/PycharmProjects/Churn_Analysis/venv/lib/python3.10/site-packages/sklearn/utils/validation.py:1184: DataConversionWarning: A column-vector y was passed when a 1d array was expected. Please change the shape of y to (n_samples, ), for example using ravel().\n",
      "  y = column_or_1d(y, warn=True)\n",
      "/home/annabelle/PycharmProjects/Churn_Analysis/venv/lib/python3.10/site-packages/sklearn/linear_model/_logistic.py:460: ConvergenceWarning: lbfgs failed to converge (status=1):\n",
      "STOP: TOTAL NO. of ITERATIONS REACHED LIMIT.\n",
      "\n",
      "Increase the number of iterations (max_iter) or scale the data as shown in:\n",
      "    https://scikit-learn.org/stable/modules/preprocessing.html\n",
      "Please also refer to the documentation for alternative solver options:\n",
      "    https://scikit-learn.org/stable/modules/linear_model.html#logistic-regression\n",
      "  n_iter_i = _check_optimize_result(\n"
     ]
    },
    {
     "data": {
      "text/plain": "array([[1163,  135],\n       [ 219,  244]])"
     },
     "execution_count": 16,
     "metadata": {},
     "output_type": "execute_result"
    }
   ],
   "source": [
    "X = dataset.iloc[:, 1:20]\n",
    "y = dataset.loc[:, ['Churn']]\n",
    "X_train, X_test, y_train, y_test = train_test_split(X, y, random_state=0, train_size = .75)\n",
    "logreg = LogisticRegression()\n",
    "logreg.fit(X_train, y_train)\n",
    "y_pred = logreg.predict(X_test)\n",
    "cnf_matrix = metrics.confusion_matrix(y_test, y_pred)\n",
    "cnf_matrix"
   ],
   "metadata": {
    "collapsed": false,
    "ExecuteTime": {
     "end_time": "2023-08-23T15:21:46.304349226Z",
     "start_time": "2023-08-23T15:21:46.158966814Z"
    }
   },
   "id": "677bc556ce07ecf4"
  },
  {
   "cell_type": "code",
   "execution_count": 17,
   "outputs": [
    {
     "data": {
      "text/plain": "0.8017796289284362"
     },
     "execution_count": 17,
     "metadata": {},
     "output_type": "execute_result"
    }
   ],
   "source": [
    "logreg.score(X_train, y_train)"
   ],
   "metadata": {
    "collapsed": false,
    "ExecuteTime": {
     "end_time": "2023-08-23T15:21:54.570458430Z",
     "start_time": "2023-08-23T15:21:54.516772597Z"
    }
   },
   "id": "31f659214ddc1686"
  },
  {
   "cell_type": "markdown",
   "source": [
    "# Guassian"
   ],
   "metadata": {
    "collapsed": false
   },
   "id": "18831d5bc7c6f0ac"
  },
  {
   "cell_type": "code",
   "execution_count": 18,
   "outputs": [
    {
     "name": "stderr",
     "output_type": "stream",
     "text": [
      "/home/annabelle/PycharmProjects/Churn_Analysis/venv/lib/python3.10/site-packages/sklearn/utils/validation.py:1184: DataConversionWarning: A column-vector y was passed when a 1d array was expected. Please change the shape of y to (n_samples, ), for example using ravel().\n",
      "  y = column_or_1d(y, warn=True)\n"
     ]
    },
    {
     "data": {
      "text/plain": "array([[917, 381],\n       [106, 357]])"
     },
     "execution_count": 18,
     "metadata": {},
     "output_type": "execute_result"
    }
   ],
   "source": [
    "gaussian = GaussianNB()\n",
    "gaussian.fit(X_train, y_train)\n",
    "y_pred = gaussian.predict(X_test)\n",
    "cnf_matrix = metrics.confusion_matrix(y_test, y_pred)\n",
    "cnf_matrix"
   ],
   "metadata": {
    "collapsed": false,
    "ExecuteTime": {
     "end_time": "2023-08-23T15:22:32.826564213Z",
     "start_time": "2023-08-23T15:22:32.781488484Z"
    }
   },
   "id": "f72eae526cb734e"
  },
  {
   "cell_type": "code",
   "execution_count": 19,
   "outputs": [
    {
     "data": {
      "text/plain": "0.7330556607345703"
     },
     "execution_count": 19,
     "metadata": {},
     "output_type": "execute_result"
    }
   ],
   "source": [
    "gaussian.score(X_train, y_train)"
   ],
   "metadata": {
    "collapsed": false,
    "ExecuteTime": {
     "end_time": "2023-08-23T15:22:37.073982091Z",
     "start_time": "2023-08-23T15:22:37.032178514Z"
    }
   },
   "id": "4ada0e38ef474def"
  },
  {
   "cell_type": "markdown",
   "source": [
    "The accuracy of this model is less than logistic regression, lets see if the model works better with scaled data"
   ],
   "metadata": {
    "collapsed": false
   },
   "id": "7044f166f41be1b3"
  },
  {
   "cell_type": "code",
   "execution_count": 20,
   "outputs": [
    {
     "name": "stdout",
     "output_type": "stream",
     "text": [
      "        gender  SeniorCitizen   Partner  Dependents    tenure  PhoneService  \\\n",
      "0     0.000000       0.000000  0.023662    0.000000  0.023662      0.000000   \n",
      "1     0.000529       0.000000  0.000000    0.000000  0.017983      0.000529   \n",
      "2     0.008273       0.000000  0.000000    0.000000  0.016546      0.008273   \n",
      "3     0.000543       0.000000  0.000000    0.000000  0.024433      0.000000   \n",
      "4     0.000000       0.000000  0.000000    0.000000  0.011950      0.005975   \n",
      "...        ...            ...       ...         ...       ...           ...   \n",
      "7038  0.000502       0.000000  0.000502    0.000502  0.012045      0.000502   \n",
      "7039  0.000000       0.000000  0.000136    0.000136  0.009777      0.000136   \n",
      "7040  0.000000       0.000000  0.002874    0.002874  0.031619      0.000000   \n",
      "7041  0.003169       0.003169  0.003169    0.000000  0.012676      0.003169   \n",
      "7042  0.000146       0.000000  0.000000    0.000000  0.009641      0.000146   \n",
      "\n",
      "      MultipleLines  InternetService  OnlineSecurity  OnlineBackup  \\\n",
      "0          0.000000         0.000000        0.000000      0.023662   \n",
      "1          0.001058         0.000000        0.000529      0.000000   \n",
      "2          0.016546         0.000000        0.008273      0.008273   \n",
      "3          0.000000         0.000000        0.000543      0.000000   \n",
      "4          0.011950         0.011950        0.000000      0.000000   \n",
      "...             ...              ...             ...           ...   \n",
      "7038       0.001004         0.000000        0.000502      0.000000   \n",
      "7039       0.000272         0.000272        0.000000      0.000136   \n",
      "7040       0.000000         0.000000        0.002874      0.000000   \n",
      "7041       0.006338         0.006338        0.000000      0.000000   \n",
      "7042       0.000292         0.000292        0.000146      0.000000   \n",
      "\n",
      "      DeviceProtection  TechSupport  StreamingTV  StreamingMovies  Contract  \\\n",
      "0             0.000000     0.000000     0.000000         0.000000  0.000000   \n",
      "1             0.000529     0.000000     0.000000         0.000000  0.001058   \n",
      "2             0.000000     0.000000     0.000000         0.000000  0.000000   \n",
      "3             0.000543     0.000543     0.000000         0.000000  0.001086   \n",
      "4             0.000000     0.000000     0.000000         0.000000  0.000000   \n",
      "...                ...          ...          ...              ...       ...   \n",
      "7038          0.000502     0.000502     0.000502         0.000502  0.001004   \n",
      "7039          0.000136     0.000000     0.000136         0.000136  0.000272   \n",
      "7040          0.000000     0.000000     0.000000         0.000000  0.000000   \n",
      "7041          0.000000     0.000000     0.000000         0.000000  0.000000   \n",
      "7042          0.000146     0.000146     0.000146         0.000146  0.000292   \n",
      "\n",
      "      PaperlessBilling  PaymentMethod  MonthlyCharges  TotalCharges  \n",
      "0             0.023662       0.000000        0.706315      0.706315  \n",
      "1             0.000000       0.000529        0.030122      0.999383  \n",
      "2             0.008273       0.008273        0.445509      0.894742  \n",
      "3             0.000000       0.001086        0.022967      0.999436  \n",
      "4             0.005975       0.000000        0.422436      0.906117  \n",
      "...                ...            ...             ...           ...  \n",
      "7038          0.000502       0.000502        0.042561      0.999019  \n",
      "7039          0.000136       0.000407        0.014014      0.999854  \n",
      "7040          0.002874       0.000000        0.085084      0.995855  \n",
      "7041          0.003169       0.003169        0.235782      0.971651  \n",
      "7042          0.000146       0.000292        0.015433      0.999834  \n",
      "\n",
      "[7043 rows x 19 columns]\n"
     ]
    }
   ],
   "source": [
    "d = preprocessing.normalize(X)\n",
    "scaled_df = pd.DataFrame(d, columns=X.columns)\n",
    "print(scaled_df)"
   ],
   "metadata": {
    "collapsed": false,
    "ExecuteTime": {
     "end_time": "2023-08-23T15:25:27.744423228Z",
     "start_time": "2023-08-23T15:25:27.691446808Z"
    }
   },
   "id": "f4165d503fb16a93"
  },
  {
   "cell_type": "code",
   "execution_count": 21,
   "outputs": [
    {
     "name": "stderr",
     "output_type": "stream",
     "text": [
      "/home/annabelle/PycharmProjects/Churn_Analysis/venv/lib/python3.10/site-packages/sklearn/utils/validation.py:1184: DataConversionWarning: A column-vector y was passed when a 1d array was expected. Please change the shape of y to (n_samples, ), for example using ravel().\n",
      "  y = column_or_1d(y, warn=True)\n"
     ]
    },
    {
     "data": {
      "text/plain": "array([[1195,  103],\n       [ 340,  123]])"
     },
     "execution_count": 21,
     "metadata": {},
     "output_type": "execute_result"
    }
   ],
   "source": [
    "X_train, X_test, y_train, y_test = train_test_split(scaled_df, y, random_state=0, train_size = .75)\n",
    "gaussian = GaussianNB()\n",
    "gaussian.fit(X_train, y_train)\n",
    "y_pred = gaussian.predict(X_test)\n",
    "cnf_matrix = metrics.confusion_matrix(y_test, y_pred)\n",
    "cnf_matrix"
   ],
   "metadata": {
    "collapsed": false,
    "ExecuteTime": {
     "end_time": "2023-08-23T15:25:33.990019258Z",
     "start_time": "2023-08-23T15:25:33.920511268Z"
    }
   },
   "id": "70163d9b8130f58c"
  },
  {
   "cell_type": "code",
   "execution_count": 22,
   "outputs": [
    {
     "data": {
      "text/plain": "0.7588034835289663"
     },
     "execution_count": 22,
     "metadata": {},
     "output_type": "execute_result"
    }
   ],
   "source": [
    "gaussian.score(X_train, y_train)"
   ],
   "metadata": {
    "collapsed": false,
    "ExecuteTime": {
     "end_time": "2023-08-23T15:25:40.845027872Z",
     "start_time": "2023-08-23T15:25:40.814270407Z"
    }
   },
   "id": "1a9fd423cd61f120"
  },
  {
   "cell_type": "markdown",
   "source": [
    "The result is better this way but still less than logistic regression\n",
    "\n",
    "# Decision Tree"
   ],
   "metadata": {
    "collapsed": false
   },
   "id": "81d6bd136906a55"
  },
  {
   "cell_type": "code",
   "execution_count": 23,
   "outputs": [
    {
     "data": {
      "text/plain": "array([[1063,  235],\n       [ 233,  230]])"
     },
     "execution_count": 23,
     "metadata": {},
     "output_type": "execute_result"
    }
   ],
   "source": [
    "DT = DecisionTreeClassifier()\n",
    "DT = DT.fit(X_train,y_train)\n",
    "y_pred = DT.predict(X_test)\n",
    "cnf_matrix = metrics.confusion_matrix(y_test, y_pred)\n",
    "cnf_matrix"
   ],
   "metadata": {
    "collapsed": false,
    "ExecuteTime": {
     "end_time": "2023-08-23T15:27:07.135211693Z",
     "start_time": "2023-08-23T15:27:06.979291213Z"
    }
   },
   "id": "e22651c1f453829f"
  },
  {
   "cell_type": "code",
   "execution_count": 24,
   "outputs": [
    {
     "data": {
      "text/plain": "0.9973494888299886"
     },
     "execution_count": 24,
     "metadata": {},
     "output_type": "execute_result"
    }
   ],
   "source": [
    "DT.score(X_train, y_train)"
   ],
   "metadata": {
    "collapsed": false,
    "ExecuteTime": {
     "end_time": "2023-08-23T15:27:09.999282830Z",
     "start_time": "2023-08-23T15:27:09.967008516Z"
    }
   },
   "id": "134352bb2a631936"
  },
  {
   "cell_type": "markdown",
   "source": [
    "Decision tree is significantly improved but we should see if it's not overfitted"
   ],
   "metadata": {
    "collapsed": false
   },
   "id": "3b8dadce4333ff6e"
  },
  {
   "cell_type": "code",
   "execution_count": 28,
   "outputs": [
    {
     "name": "stdout",
     "output_type": "stream",
     "text": [
      ">1, train: 0.734, test: 0.737\n",
      ">2, train: 0.765, test: 0.747\n",
      ">3, train: 0.794, test: 0.773\n",
      ">4, train: 0.802, test: 0.775\n"
     ]
    }
   ],
   "source": [
    "train_scores, test_scores = list(), list()\n",
    "values = [i for i in range(1, 5)]\n",
    "for i in values:\n",
    "\tmodel = DecisionTreeClassifier(max_depth=i)\n",
    "\tmodel.fit(X_train, y_train)\n",
    "\ttrain_yhat = model.predict(X_train)\n",
    "\ttrain_acc = accuracy_score(y_train, train_yhat)\n",
    "\ttrain_scores.append(train_acc)\n",
    "\ttest_yhat = model.predict(X_test)\n",
    "\ttest_acc = accuracy_score(y_test, test_yhat)\n",
    "\ttest_scores.append(test_acc)\n",
    "\tprint('>%d, train: %.3f, test: %.3f' % (i, train_acc, test_acc))"
   ],
   "metadata": {
    "collapsed": false,
    "ExecuteTime": {
     "end_time": "2023-08-23T15:29:46.824099868Z",
     "start_time": "2023-08-23T15:29:46.587299581Z"
    }
   },
   "id": "88318c1d20b5085"
  },
  {
   "cell_type": "code",
   "execution_count": 29,
   "outputs": [
    {
     "data": {
      "text/plain": "array([[1112,  186],\n       [ 194,  269]])"
     },
     "execution_count": 29,
     "metadata": {},
     "output_type": "execute_result"
    }
   ],
   "source": [
    "DT = DecisionTreeClassifier(max_depth=5)\n",
    "DT = DT.fit(X_train,y_train)\n",
    "y_pred = DT.predict(X_test)\n",
    "cnf_matrix = metrics.confusion_matrix(y_test, y_pred)\n",
    "cnf_matrix"
   ],
   "metadata": {
    "collapsed": false,
    "ExecuteTime": {
     "end_time": "2023-08-19T21:03:33.289395321Z",
     "start_time": "2023-08-19T21:03:33.188664832Z"
    }
   },
   "id": "eb2eaf33b180e59a"
  },
  {
   "cell_type": "code",
   "execution_count": 30,
   "outputs": [
    {
     "data": {
      "text/plain": "0.807080651268459"
     },
     "execution_count": 30,
     "metadata": {},
     "output_type": "execute_result"
    }
   ],
   "source": [
    "DT.score(X_train, y_train)"
   ],
   "metadata": {
    "collapsed": false,
    "ExecuteTime": {
     "end_time": "2023-08-19T21:03:45.687413777Z",
     "start_time": "2023-08-19T21:03:45.533745314Z"
    }
   },
   "id": "951cfcd4ca1ca279"
  },
  {
   "cell_type": "markdown",
   "source": [
    "Seems depth 5 is a good depth. This result is already better than logistic regression but lets see if it will be improved with scaled data."
   ],
   "metadata": {
    "collapsed": false
   },
   "id": "ad6a67cfc65bbd1b"
  },
  {
   "cell_type": "code",
   "execution_count": 31,
   "outputs": [
    {
     "data": {
      "text/plain": "array([[1150,  148],\n       [ 239,  224]])"
     },
     "execution_count": 31,
     "metadata": {},
     "output_type": "execute_result"
    }
   ],
   "source": [
    "d = preprocessing.normalize(X)\n",
    "scaled_df = pd.DataFrame(d, columns=X.columns)\n",
    "X_train, X_test, y_train, y_test = train_test_split(scaled_df, y, random_state=0, train_size = .75)\n",
    "DT = DecisionTreeClassifier(max_depth=5)\n",
    "DT = DT.fit(X_train,y_train)\n",
    "y_pred = DT.predict(X_test)\n",
    "cnf_matrix = metrics.confusion_matrix(y_test, y_pred)\n",
    "cnf_matrix"
   ],
   "metadata": {
    "collapsed": false,
    "ExecuteTime": {
     "end_time": "2023-08-23T15:33:00.385763865Z",
     "start_time": "2023-08-23T15:33:00.245298532Z"
    }
   },
   "id": "fdb4472da54f49d7"
  },
  {
   "cell_type": "code",
   "execution_count": 32,
   "outputs": [
    {
     "data": {
      "text/plain": "0.8108670957970465"
     },
     "execution_count": 32,
     "metadata": {},
     "output_type": "execute_result"
    }
   ],
   "source": [
    "DT.score(X_train, y_train)"
   ],
   "metadata": {
    "collapsed": false,
    "ExecuteTime": {
     "end_time": "2023-08-23T15:33:07.981931855Z",
     "start_time": "2023-08-23T15:33:07.824244213Z"
    }
   },
   "id": "3d4484898c2a10a8"
  },
  {
   "cell_type": "markdown",
   "source": [
    "This result is better so lets save the model so it will be used later"
   ],
   "metadata": {
    "collapsed": false
   },
   "id": "ef1475ca153720f3"
  },
  {
   "cell_type": "code",
   "execution_count": 33,
   "outputs": [],
   "source": [
    "filename = 'churn_prediction.sav'\n",
    "pickle.dump(DT, open(filename, 'wb'))"
   ],
   "metadata": {
    "collapsed": false,
    "ExecuteTime": {
     "end_time": "2023-08-23T15:43:00.650438888Z",
     "start_time": "2023-08-23T15:42:58.804319276Z"
    }
   },
   "id": "fdb952d4e6c65bb0"
  }
 ],
 "metadata": {
  "kernelspec": {
   "display_name": "Python 3",
   "language": "python",
   "name": "python3"
  },
  "language_info": {
   "codemirror_mode": {
    "name": "ipython",
    "version": 2
   },
   "file_extension": ".py",
   "mimetype": "text/x-python",
   "name": "python",
   "nbconvert_exporter": "python",
   "pygments_lexer": "ipython2",
   "version": "2.7.6"
  }
 },
 "nbformat": 4,
 "nbformat_minor": 5
}
